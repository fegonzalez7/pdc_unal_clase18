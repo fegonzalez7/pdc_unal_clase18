{
 "cells": [
  {
   "cell_type": "code",
   "execution_count": 8,
   "metadata": {},
   "outputs": [
    {
     "name": "stdout",
     "output_type": "stream",
     "text": [
      "https://pokeapi.co/api/v2/pokemon/\n",
      "200\n",
      "dict_keys(['abilities', 'base_experience', 'forms', 'game_indices', 'height', 'held_items', 'id', 'is_default', 'location_area_encounters', 'moves', 'name', 'order', 'past_types', 'species', 'sprites', 'stats', 'types', 'weight'])\n"
     ]
    }
   ],
   "source": [
    "import json\n",
    "import requests\n",
    "\n",
    "\n",
    "url = 'https://pokeapi.co/api/v2/pokemon/'\n",
    "\n",
    "def buscarPokemonNum(num : int):\n",
    "  print(url)\n",
    "  peticion = requests.get(url+str(num))\n",
    "  print(peticion.status_code)\n",
    "\n",
    "  return json.loads(peticion.content)\n",
    "\n",
    "if __name__ == \"__main__\":\n",
    "  respuesta = buscarPokemonNum(1)\n",
    "# print(json.dumps(respuesta, indent=2))\n",
    "print(dict(respuesta).keys())"
   ]
  }
 ],
 "metadata": {
  "kernelspec": {
   "display_name": "Python 3",
   "language": "python",
   "name": "python3"
  },
  "language_info": {
   "codemirror_mode": {
    "name": "ipython",
    "version": 3
   },
   "file_extension": ".py",
   "mimetype": "text/x-python",
   "name": "python",
   "nbconvert_exporter": "python",
   "pygments_lexer": "ipython3",
   "version": "3.8.9"
  },
  "orig_nbformat": 4
 },
 "nbformat": 4,
 "nbformat_minor": 2
}
